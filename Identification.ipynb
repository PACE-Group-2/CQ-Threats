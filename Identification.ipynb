{
 "cells": [
  {
   "cell_type": "markdown",
   "metadata": {},
   "source": [
    "## Twitter Keys and token\n",
    "\n",
    "API Key: q20H2E8UJAzNCcXrzmhucGULR\n",
    "\n",
    "API key secret: fKUKhOb3KD9Wcr1WeY0C60qkix99OSU2HnefTJ4XhE4ivv3LHU\n",
    "\n",
    "Barer token: AAAAAAAAAAAAAAAAAAAAAKR7HgEAAAAADKrJahx73in%2BUeWKq4aqSL72dJw%3DMCAV7C7TmDcOk0qVBdFfhrTDHOpuDsHYm4iqnizREWgquNoRFG"
   ]
  },
  {
   "cell_type": "code",
   "execution_count": null,
   "metadata": {},
   "outputs": [],
   "source": []
  }
 ],
 "metadata": {
  "kernelspec": {
   "display_name": "Python 3",
   "language": "python",
   "name": "python3"
  },
  "language_info": {
   "codemirror_mode": {
    "name": "ipython",
    "version": 3
   },
   "file_extension": ".py",
   "mimetype": "text/x-python",
   "name": "python",
   "nbconvert_exporter": "python",
   "pygments_lexer": "ipython3",
   "version": "3.8.3"
  }
 },
 "nbformat": 4,
 "nbformat_minor": 4
}
