{
 "cells": [
  {
   "cell_type": "code",
   "execution_count": 1,
   "metadata": {},
   "outputs": [],
   "source": [
    "import bs4\n",
    "from urllib.request import urlopen as uReq\n",
    "from bs4 import BeautifulSoup as soup\n",
    "import csv"
   ]
  },
  {
   "cell_type": "code",
   "execution_count": 2,
   "metadata": {},
   "outputs": [],
   "source": [
    "#grabbing the webpage html\n",
    "url = 'https://www.smh.com.au/topic/crime-5w4'\n",
    "uClient = uReq(url)\n",
    "page_html = uClient.read()\n",
    "uClient.close()"
   ]
  },
  {
   "cell_type": "code",
   "execution_count": 3,
   "metadata": {},
   "outputs": [],
   "source": [
    "#html parsing\n",
    "page_soup = soup(page_html, \"html.parser\")\n",
    "articles = page_soup.findAll(\"div\", {\"class\":\"_2g9tm\"})"
   ]
  },
  {
   "cell_type": "code",
   "execution_count": 4,
   "metadata": {},
   "outputs": [
    {
     "name": "stdout",
     "output_type": "stream",
     "text": [
      "#ProudShoreMums stand up for their sons after muck-up day controversy\n",
      "Stabbing attack near former offices of Charlie Hebdo magazine in Paris\n",
      "New Zealand-born police officer shot dead in London police station\n",
      "Two charged over COVID-19 outbreak at US veterans' home that left 76 dead\n",
      "More elite Sydney schools drawn into 'criminal' muck-up day fiasco\n",
      "Police officer shot dead in south London\n",
      "Sydney photographer arrested following sexual assault allegations\n",
      "Man charged with attack on police found dead in prison cell\n",
      "Relic of Pope John Paul II's blood stolen from Italian cathedral\n",
      "Three more charged over Surfers Paradise stabbing death\n"
     ]
    }
   ],
   "source": [
    "for article in articles:\n",
    "    title = article.find(\"a\",{\"data-test\": \"article-link\"}).get_text()\n",
    "    print(title)"
   ]
  },
  {
   "cell_type": "code",
   "execution_count": null,
   "metadata": {},
   "outputs": [],
   "source": []
  }
 ],
 "metadata": {
  "kernelspec": {
   "display_name": "Python 3",
   "language": "python",
   "name": "python3"
  },
  "language_info": {
   "codemirror_mode": {
    "name": "ipython",
    "version": 3
   },
   "file_extension": ".py",
   "mimetype": "text/x-python",
   "name": "python",
   "nbconvert_exporter": "python",
   "pygments_lexer": "ipython3",
   "version": "3.8.3"
  }
 },
 "nbformat": 4,
 "nbformat_minor": 4
}
