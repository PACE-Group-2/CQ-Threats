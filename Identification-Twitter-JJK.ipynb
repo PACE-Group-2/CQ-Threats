{
 "cells": [
  {
   "cell_type": "markdown",
   "metadata": {},
   "source": [
    "## Twitter Keys and token"
   ]
  },
  {
   "cell_type": "code",
   "execution_count": 1,
   "metadata": {
    "collapsed": true
   },
   "outputs": [
    {
     "name": "stdout",
     "output_type": "stream",
     "text": [
      "Requirement already satisfied: tweepy in /Users/jjk743/opt/anaconda3/lib/python3.8/site-packages (3.9.0)\n",
      "Requirement already satisfied: requests[socks]>=2.11.1 in /Users/jjk743/opt/anaconda3/lib/python3.8/site-packages (from tweepy) (2.24.0)\n",
      "Requirement already satisfied: six>=1.10.0 in /Users/jjk743/opt/anaconda3/lib/python3.8/site-packages (from tweepy) (1.15.0)\n",
      "Requirement already satisfied: requests-oauthlib>=0.7.0 in /Users/jjk743/opt/anaconda3/lib/python3.8/site-packages (from tweepy) (1.3.0)\n",
      "Requirement already satisfied: idna<3,>=2.5 in /Users/jjk743/opt/anaconda3/lib/python3.8/site-packages (from requests[socks]>=2.11.1->tweepy) (2.10)\n",
      "Requirement already satisfied: certifi>=2017.4.17 in /Users/jjk743/opt/anaconda3/lib/python3.8/site-packages (from requests[socks]>=2.11.1->tweepy) (2020.6.20)\n",
      "Requirement already satisfied: chardet<4,>=3.0.2 in /Users/jjk743/opt/anaconda3/lib/python3.8/site-packages (from requests[socks]>=2.11.1->tweepy) (3.0.4)\n",
      "Requirement already satisfied: urllib3!=1.25.0,!=1.25.1,<1.26,>=1.21.1 in /Users/jjk743/opt/anaconda3/lib/python3.8/site-packages (from requests[socks]>=2.11.1->tweepy) (1.25.9)\n",
      "Requirement already satisfied: PySocks!=1.5.7,>=1.5.6; extra == \"socks\" in /Users/jjk743/opt/anaconda3/lib/python3.8/site-packages (from requests[socks]>=2.11.1->tweepy) (1.7.1)\n",
      "Requirement already satisfied: oauthlib>=3.0.0 in /Users/jjk743/opt/anaconda3/lib/python3.8/site-packages (from requests-oauthlib>=0.7.0->tweepy) (3.0.1)\n",
      "Note: you may need to restart the kernel to use updated packages.\n"
     ]
    }
   ],
   "source": [
    "pip install tweepy"
   ]
  },
  {
   "cell_type": "code",
   "execution_count": 2,
   "metadata": {},
   "outputs": [],
   "source": [
    "# Import required libraries for this program\n",
    "import csv\n",
    "import tweepy\n",
    "import re"
   ]
  },
  {
   "cell_type": "code",
   "execution_count": 3,
   "metadata": {},
   "outputs": [],
   "source": [
    "consumer_key = \"q20H2E8UJAzNCcXrzmhucGULR\"\n",
    "consumer_secret = \"fKUKhOb3KD9Wcr1WeY0C60qkix99OSU2HnefTJ4XhE4ivv3LHU\"\n",
    "access_token = \"1304603235009720320-JgdgCDh7shjNQM3EyASBG4Pm13XGB5\"\n",
    "access_token_secret = \"oPWPveIcI0FWJEYQhrvtvB1zcmaAM0choDERCI098f1Jc\""
   ]
  },
  {
   "cell_type": "code",
   "execution_count": 4,
   "metadata": {},
   "outputs": [],
   "source": [
    "# Using keys to authenticate and access Twitter\n",
    "auth = tweepy.OAuthHandler(consumer_key, consumer_secret)\n",
    "auth.set_access_token(access_token, access_token_secret)"
   ]
  },
  {
   "cell_type": "code",
   "execution_count": 5,
   "metadata": {},
   "outputs": [],
   "source": [
    "# Initialising Tweepy API\n",
    "api = tweepy.API(auth, wait_on_rate_limit=True)"
   ]
  },
  {
   "cell_type": "markdown",
   "metadata": {},
   "source": [
    "## Functions to write tweets to csv file"
   ]
  },
  {
   "cell_type": "markdown",
   "metadata": {},
   "source": [
    "### For Hashtag"
   ]
  },
  {
   "cell_type": "code",
   "execution_count": 6,
   "metadata": {},
   "outputs": [],
   "source": [
    "# This function creates file inp_hastags.csv in the /data/twitter/hashtags folder and writes rows of tweets with relevent information\n",
    "# Useful resource for understanding tweet object: \n",
    "# https://developer.twitter.com/en/docs/twitter-api/v1/data-dictionary/overview/tweet-object\n",
    "def hashtag_search(inp_hashtags):\n",
    "    fname = '_'.join(re.findall(r\"#(\\w+)\", inp_hashtags))\n",
    "    with open('data/twitter/hashtags/%s.csv' % (fname), 'w') as file:\n",
    "        w = csv.writer(file)\n",
    "        #write header row to spreadsheet\n",
    "        w.writerow(['Timestamp', 'tweet_text', 'Username', 'User_loc', 'All_hashtags', 'UserID_verified', 'followers_count'])\n",
    "        #for each tweet matching our hashtags, write relevant info to the spreadsheet\n",
    "        for tweet in tweepy.Cursor(api.search, q=inp_hashtags+' -filter:retweets', lang=\"en\", tweet_mode='extended').items(500):\n",
    "            w.writerow([tweet.created_at, tweet.full_text.replace('\\n',' ').encode('utf-8'), tweet.user.screen_name.encode('utf-8'), tweet.user.location.encode('utf-8'), [e['text'] for e in tweet._json['entities']['hashtags']], tweet.user.verified, tweet.user.followers_count])\n",
    "            "
   ]
  },
  {
   "cell_type": "markdown",
   "metadata": {},
   "source": [
    "### For User ID"
   ]
  },
  {
   "cell_type": "code",
   "execution_count": 7,
   "metadata": {},
   "outputs": [],
   "source": [
    "# This function creates file inp_user.csv in the /data/twitter/users folder and writes rows of tweets with relevent information\n",
    "# Useful resource for understanding tweet object: \n",
    "# https://developer.twitter.com/en/docs/twitter-api/v1/data-dictionary/overview/tweet-object\n",
    "def user_search(inp_user):\n",
    "    fname = '_'.join(re.findall(r\"(\\w+)\", inp_user))\n",
    "    with open('data/twitter/users/%s.csv' % (fname), 'w') as file:\n",
    "        w = csv.writer(file)\n",
    "        #write header row to spreadsheet\n",
    "        w.writerow(['Timestamp', 'tweet_text', 'Username', 'User_loc', 'All_hashtags', 'UserID_verified', 'followers_count'])\n",
    "        for tweet in tweepy.Cursor(api.user_timeline, id=inp_user, tweet_mode='extended').items(500):\n",
    "            w.writerow([tweet.created_at, tweet.full_text.replace('\\n',' ').encode('utf-8'), tweet.user.screen_name.encode('utf-8'), tweet.user.location.encode('utf-8'), [e['text'] for e in tweet._json['entities']['hashtags']], tweet.user.verified, tweet.user.followers_count])\n",
    "            "
   ]
  },
  {
   "cell_type": "code",
   "execution_count": 8,
   "metadata": {},
   "outputs": [],
   "source": [
    "hashtag_search(\"#threats\")\n",
    "hashtag_search(\"#threat\")\n",
    "hashtag_search(\"#threatpost\")\n",
    "hashtag_search(\"#cyberattack\")\n",
    "hashtag_search(\"#cyberthreats\")"
   ]
  },
  {
   "cell_type": "code",
   "execution_count": 9,
   "metadata": {},
   "outputs": [],
   "source": [
    "user_search(\"nswpolice\") #NSW Police Force\n",
    "user_search(\"9NewsSyd\") #9News\n",
    "user_search(\"smh\") #Sydney Morning Herald"
   ]
  },
  {
   "cell_type": "code",
   "execution_count": null,
   "metadata": {},
   "outputs": [],
   "source": []
  }
 ],
 "metadata": {
  "kernelspec": {
   "display_name": "Python 3",
   "language": "python",
   "name": "python3"
  },
  "language_info": {
   "codemirror_mode": {
    "name": "ipython",
    "version": 3
   },
   "file_extension": ".py",
   "mimetype": "text/x-python",
   "name": "python",
   "nbconvert_exporter": "python",
   "pygments_lexer": "ipython3",
   "version": "3.8.3"
  }
 },
 "nbformat": 4,
 "nbformat_minor": 4
}
