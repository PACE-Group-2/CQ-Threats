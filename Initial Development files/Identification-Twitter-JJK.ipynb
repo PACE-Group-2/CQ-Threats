{
 "cells": [
  {
   "cell_type": "markdown",
   "metadata": {},
   "source": [
    "## Twitter Keys and token"
   ]
  },
  {
   "cell_type": "code",
   "execution_count": null,
   "metadata": {},
   "outputs": [],
   "source": [
    "pip install tweepy"
   ]
  },
  {
   "cell_type": "code",
   "execution_count": 1,
   "metadata": {},
   "outputs": [],
   "source": [
    "# Import required libraries for this program\n",
    "import csv\n",
    "import tweepy\n",
    "import re\n",
    "import json\n",
    "from google.cloud import language"
   ]
  },
  {
   "cell_type": "code",
   "execution_count": 2,
   "metadata": {},
   "outputs": [],
   "source": [
    "consumer_key = \"q20H2E8UJAzNCcXrzmhucGULR\"\n",
    "consumer_secret = \"fKUKhOb3KD9Wcr1WeY0C60qkix99OSU2HnefTJ4XhE4ivv3LHU\"\n",
    "access_token = \"1304603235009720320-JgdgCDh7shjNQM3EyASBG4Pm13XGB5\"\n",
    "access_token_secret = \"oPWPveIcI0FWJEYQhrvtvB1zcmaAM0choDERCI098f1Jc\""
   ]
  },
  {
   "cell_type": "code",
   "execution_count": 3,
   "metadata": {},
   "outputs": [],
   "source": [
    "# Using keys to authenticate and access Twitter\n",
    "auth = tweepy.OAuthHandler(consumer_key, consumer_secret)\n",
    "auth.set_access_token(access_token, access_token_secret)"
   ]
  },
  {
   "cell_type": "code",
   "execution_count": 4,
   "metadata": {},
   "outputs": [],
   "source": [
    "# Initialising Tweepy API\n",
    "api = tweepy.API(auth, wait_on_rate_limit=True)"
   ]
  },
  {
   "cell_type": "markdown",
   "metadata": {},
   "source": [
    "## Functions to write tweets to csv file"
   ]
  },
  {
   "cell_type": "markdown",
   "metadata": {},
   "source": [
    "### For Hashtag"
   ]
  },
  {
   "cell_type": "code",
   "execution_count": 5,
   "metadata": {},
   "outputs": [],
   "source": [
    "# This function creates file inp_hastags.csv in the /data/twitter/hashtags folder and writes rows of tweets with relevent information\n",
    "# Useful resource for understanding tweet object: \n",
    "# https://developer.twitter.com/en/docs/twitter-api/v1/data-dictionary/overview/tweet-object\n",
    "def hashtag_search(inp_hashtags):\n",
    "    fname = '_'.join(re.findall(r\"#(\\w+)\", inp_hashtags))\n",
    "    with open('data/twitter/hashtags/%s.csv' % (fname), 'w') as file:\n",
    "        w = csv.writer(file)\n",
    "        #write header row to spreadsheet\n",
    "        w.writerow(['Timestamp', 'tweet_text', 'Username', 'User_loc', 'All_hashtags', 'UserID_verified', 'followers_count'])\n",
    "        #for each tweet matching our hashtags, write relevant info to the spreadsheet\n",
    "        for tweet in tweepy.Cursor(api.search, q=inp_hashtags+' -filter:retweets', lang=\"en\", tweet_mode='extended').items(500):\n",
    "            w.writerow([tweet.created_at, tweet.full_text.replace('\\n',' ').encode('utf-8'), tweet.user.screen_name.encode('utf-8'), tweet.user.location.encode('utf-8'), [e['text'] for e in tweet._json['entities']['hashtags']], tweet.user.verified, tweet.user.followers_count])\n",
    "            "
   ]
  },
  {
   "cell_type": "markdown",
   "metadata": {},
   "source": [
    "### For User ID"
   ]
  },
  {
   "cell_type": "code",
   "execution_count": 6,
   "metadata": {},
   "outputs": [],
   "source": [
    "# This function creates file inp_user.csv in the /data/twitter/users folder and writes rows of tweets with relevent information\n",
    "# Useful resource for understanding tweet object: \n",
    "# https://developer.twitter.com/en/docs/twitter-api/v1/data-dictionary/overview/tweet-object\n",
    "def user_search(inp_user):\n",
    "    fname = '_'.join(re.findall(r\"(\\w+)\", inp_user))\n",
    "    with open('data/twitter/users/%s.csv' % (fname), 'w') as file:\n",
    "        w = csv.writer(file)\n",
    "        #write header row to spreadsheet\n",
    "        w.writerow(['Timestamp', 'tweet_text', 'Username', 'User_loc', 'All_hashtags', 'UserID_verified', 'followers_count'])\n",
    "        for tweet in tweepy.Cursor(api.user_timeline, id=inp_user, tweet_mode='extended').items(500):\n",
    "            w.writerow([tweet.created_at, tweet.full_text.replace('\\n',' ').encode('utf-8'), tweet.user.screen_name.encode('utf-8'), tweet.user.location.encode('utf-8'), [e['text'] for e in tweet._json['entities']['hashtags']], tweet.user.verified, tweet.user.followers_count])\n",
    "            "
   ]
  },
  {
   "cell_type": "code",
   "execution_count": null,
   "metadata": {},
   "outputs": [],
   "source": [
    "hashtag_search(\"#threats\")\n",
    "hashtag_search(\"#threat\")\n",
    "hashtag_search(\"#threatpost\")\n",
    "hashtag_search(\"#cyberattack\")\n",
    "hashtag_search(\"#cyberthreats\")"
   ]
  },
  {
   "cell_type": "code",
   "execution_count": null,
   "metadata": {},
   "outputs": [],
   "source": [
    "user_search(\"nswpolice\") #NSW Police Force\n",
    "user_search(\"9NewsSyd\") #9News\n",
    "user_search(\"smh\") #Sydney Morning Herald\n",
    "user_search(\"FRNSW\") #Fire and Rescue NSW"
   ]
  },
  {
   "cell_type": "code",
   "execution_count": null,
   "metadata": {},
   "outputs": [],
   "source": []
  }
 ],
 "metadata": {
  "kernelspec": {
   "display_name": "Python 3",
   "language": "python",
   "name": "python3"
  },
  "language_info": {
   "codemirror_mode": {
    "name": "ipython",
    "version": 3
   },
   "file_extension": ".py",
   "mimetype": "text/x-python",
   "name": "python",
   "nbconvert_exporter": "python",
   "pygments_lexer": "ipython3",
   "version": "3.8.3"
  }
 },
 "nbformat": 4,
 "nbformat_minor": 4
}
