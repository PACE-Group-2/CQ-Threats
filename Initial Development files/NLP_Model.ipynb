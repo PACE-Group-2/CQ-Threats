{
 "cells": [
  {
   "cell_type": "code",
   "execution_count": 6,
   "metadata": {},
   "outputs": [],
   "source": [
    "#import sys\n",
    "#conda install -c conda-forge spacy\n",
    "#!{sys.executable} -m spacy download en_core_web_lg\n",
    "import spacy"
   ]
  },
  {
   "cell_type": "code",
   "execution_count": null,
   "metadata": {},
   "outputs": [],
   "source": [
    "import sys\n",
    "!{sys.executable} -m spacy download en_core_web_lg"
   ]
  },
  {
   "cell_type": "code",
   "execution_count": 27,
   "metadata": {},
   "outputs": [],
   "source": [
    "#spacy.load('en_core_web_lg') -not working in Jupyter\n",
    "# Load pre-existing spacy model\n",
    "import en_core_web_lg\n",
    "nlp = en_core_web_lg.load()"
   ]
  },
  {
   "cell_type": "code",
   "execution_count": 29,
   "metadata": {},
   "outputs": [],
   "source": [
    "doc = nlp(\"Deputy Prime Minister Michael McCormack wont be drawn on who is behind the spate of cyber strikes on Australia, as China denied any part in the attacks, saying such suggestions are baseless.\")"
   ]
  },
  {
   "cell_type": "code",
   "execution_count": 30,
   "metadata": {},
   "outputs": [
    {
     "name": "stdout",
     "output_type": "stream",
     "text": [
      "Michael McCormack PERSON\n",
      "Australia GPE\n",
      "China GPE\n"
     ]
    }
   ],
   "source": [
    "for e in doc.ents:\n",
    "    print(e.text, e.label_)"
   ]
  },
  {
   "cell_type": "code",
   "execution_count": 16,
   "metadata": {},
   "outputs": [],
   "source": [
    "# Getting the pipeline component\n",
    "ner=nlp.get_pipe(\"ner\")"
   ]
  },
  {
   "cell_type": "code",
   "execution_count": 21,
   "metadata": {},
   "outputs": [],
   "source": [
    "# training data\n",
    "TRAIN_DATA = [\n",
    "              (\"He is considered murderous \", {\"entities\": [(17, 26, \"Threat level: High\")]}),\n",
    "              (\"He is considered menacing \", {\"entities\": [(17, 25, \"Threat LVL\")]}),\n",
    "              ]"
   ]
  },
  {
   "cell_type": "code",
   "execution_count": 22,
   "metadata": {},
   "outputs": [],
   "source": [
    "# Adding labels to the `ner`\n",
    "for _, annotations in TRAIN_DATA:\n",
    "  for ent in annotations.get(\"entities\"):\n",
    "    ner.add_label(ent[2])"
   ]
  },
  {
   "cell_type": "code",
   "execution_count": 23,
   "metadata": {},
   "outputs": [],
   "source": [
    "# Disable pipeline components you dont need to change\n",
    "pipe_exceptions = [\"ner\", \"trf_wordpiecer\", \"trf_tok2vec\"]\n",
    "unaffected_pipes = [pipe for pipe in nlp.pipe_names if pipe not in pipe_exceptions]"
   ]
  },
  {
   "cell_type": "code",
   "execution_count": 24,
   "metadata": {},
   "outputs": [
    {
     "name": "stdout",
     "output_type": "stream",
     "text": [
      "Losses {'ner': 6.801924109458923}\n",
      "Losses {'ner': 6.829675674438477}\n",
      "Losses {'ner': 6.636011302471161}\n",
      "Losses {'ner': 9.151582717895508}\n",
      "Losses {'ner': 8.232374727725983}\n",
      "Losses {'ner': 7.502124905586243}\n",
      "Losses {'ner': 4.022912642452866}\n",
      "Losses {'ner': 7.536043703556061}\n",
      "Losses {'ner': 8.259667456150055}\n",
      "Losses {'ner': 6.981163859367371}\n",
      "Losses {'ner': 6.944295406341553}\n",
      "Losses {'ner': 9.257238030433655}\n",
      "Losses {'ner': 6.165566325187683}\n",
      "Losses {'ner': 6.6929468512535095}\n",
      "Losses {'ner': 5.400914262980223}\n",
      "Losses {'ner': 4.868825852870941}\n",
      "Losses {'ner': 4.897722363471985}\n",
      "Losses {'ner': 4.181642636656761}\n",
      "Losses {'ner': 6.812563598155975}\n",
      "Losses {'ner': 4.056435914244503}\n",
      "Losses {'ner': 8.001654386520386}\n",
      "Losses {'ner': 4.888786628842354}\n",
      "Losses {'ner': 5.71457663923502}\n",
      "Losses {'ner': 5.597355961799622}\n",
      "Losses {'ner': 6.327799022197723}\n",
      "Losses {'ner': 5.1742835603654385}\n",
      "Losses {'ner': 4.5708882552571595}\n",
      "Losses {'ner': 6.00269665941596}\n",
      "Losses {'ner': 4.381717532873154}\n",
      "Losses {'ner': 5.407620133832097}\n"
     ]
    }
   ],
   "source": [
    "# Import requirements\n",
    "import random\n",
    "from spacy.util import minibatch, compounding\n",
    "from pathlib import Path\n",
    "\n",
    "# TRAINING THE MODEL\n",
    "with nlp.disable_pipes(*unaffected_pipes):\n",
    "\n",
    "  # Training for 30 iterations\n",
    "  for iteration in range(30):\n",
    "\n",
    "    # shuufling examples  before every iteration\n",
    "    random.shuffle(TRAIN_DATA)\n",
    "    losses = {}\n",
    "    # batch up the examples using spaCy's minibatch\n",
    "    batches = minibatch(TRAIN_DATA, size=compounding(4.0, 32.0, 1.001))\n",
    "    for batch in batches:\n",
    "        texts, annotations = zip(*batch)\n",
    "        nlp.update(\n",
    "                    texts,  # batch of texts\n",
    "                    annotations,  # batch of annotations\n",
    "                    drop=0.5,  # dropout - make it harder to memorise data\n",
    "                    losses=losses,\n",
    "                )\n",
    "        print(\"Losses\", losses)"
   ]
  },
  {
   "cell_type": "code",
   "execution_count": 25,
   "metadata": {},
   "outputs": [],
   "source": [
    "doc = nlp(u\"\"\n",
    "    \"Have you seen Darren Macquarie (55yo)? Last seen leaving a hospital\"\n",
    "    \"in Westmead yesterday (Friday 11 September 2020).\"\n",
    "    \"He is considered dangerous and the public is urged to not approach\"\n",
    "    \"the man but instead contact Crime Stoppers on 1800 333 000.\"   \n",
    "    \"https://t.co/HnrwcTXVWC https://t.co/EKdnDfSoJD\"\"\")"
   ]
  },
  {
   "cell_type": "code",
   "execution_count": 26,
   "metadata": {},
   "outputs": [
    {
     "name": "stdout",
     "output_type": "stream",
     "text": [
      "Darren Macquarie PERSON\n",
      "yesterday DATE\n",
      "Friday 11 September 2020).He DATE\n",
      "1800 333 CARDINAL\n"
     ]
    }
   ],
   "source": [
    "for e in doc.ents:\n",
    "    print(e.text, e.label_)"
   ]
  },
  {
   "cell_type": "code",
   "execution_count": null,
   "metadata": {},
   "outputs": [],
   "source": []
  }
 ],
 "metadata": {
  "kernelspec": {
   "display_name": "Python 3",
   "language": "python",
   "name": "python3"
  },
  "language_info": {
   "codemirror_mode": {
    "name": "ipython",
    "version": 3
   },
   "file_extension": ".py",
   "mimetype": "text/x-python",
   "name": "python",
   "nbconvert_exporter": "python",
   "pygments_lexer": "ipython3",
   "version": "3.8.3"
  }
 },
 "nbformat": 4,
 "nbformat_minor": 4
}
