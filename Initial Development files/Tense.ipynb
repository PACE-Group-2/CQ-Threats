{
 "cells": [
  {
   "cell_type": "code",
   "execution_count": 1,
   "metadata": {},
   "outputs": [],
   "source": [
    "import en_core_web_lg\n",
    "import textacy"
   ]
  },
  {
   "cell_type": "code",
   "execution_count": 2,
   "metadata": {},
   "outputs": [],
   "source": [
    "nlp = en_core_web_lg.load()"
   ]
  },
  {
   "cell_type": "code",
   "execution_count": 3,
   "metadata": {},
   "outputs": [],
   "source": [
    "doc = nlp('Have you seen Darren Macquarie (55yo)? Last seen leaving a hospital in Westmead yesterday (Friday 11 September 2020).   He is considered dangerous and the public is urged to not approach the man but instead contact Crime Stoppers on 1800 333 000.   https://t.co/HnrwcTXVWC https://t.co/EKdnDfSoJD')"
   ]
  },
  {
   "cell_type": "code",
   "execution_count": 4,
   "metadata": {},
   "outputs": [
    {
     "name": "stdout",
     "output_type": "stream",
     "text": [
      "{74: 100, 'Tense_pres': True, 'VerbForm_fin': True}\n",
      "{74: 95, 'PronType_prs': True}\n",
      "{74: 100, 'Aspect_perf': True, 'Tense_past': True, 'VerbForm_part': True}\n",
      "{74: 96, 'NounType_prop': True, 'Number_sing': True}\n",
      "{74: 96, 'NounType_prop': True, 'Number_sing': True}\n",
      "{74: 97, 'PunctSide_ini': True, 'PunctType_brck': True}\n",
      "{74: 92, 'Number_sing': True}\n",
      "{74: 97, 'PunctSide_fin': True, 'PunctType_brck': True}\n",
      "{74: 97, 'PunctType_peri': True}\n",
      "{74: 86, 'Degree_pos': True}\n",
      "{74: 100, 'Aspect_perf': True, 'Tense_past': True, 'VerbForm_part': True}\n",
      "{74: 100, 'Aspect_prog': True, 'Tense_pres': True, 'VerbForm_part': True}\n",
      "{74: 90}\n",
      "{74: 92, 'Number_sing': True}\n",
      "{74: 85}\n",
      "{74: 96, 'NounType_prop': True, 'Number_sing': True}\n",
      "{74: 92, 'Number_sing': True}\n",
      "{74: 97, 'PunctSide_ini': True, 'PunctType_brck': True}\n",
      "{74: 96, 'NounType_prop': True, 'Number_sing': True}\n",
      "{74: 93, 'NumType_card': True}\n",
      "{74: 96, 'NounType_prop': True, 'Number_sing': True}\n",
      "{74: 93, 'NumType_card': True}\n",
      "{74: 97, 'PunctSide_fin': True, 'PunctType_brck': True}\n",
      "{74: 97, 'PunctType_peri': True}\n",
      "{74: 103}\n",
      "{74: 95, 'PronType_prs': True}\n",
      "{74: 100, 'Number_sing': True, 'Person_three': True, 'Tense_pres': True, 'VerbForm_fin': True}\n",
      "{74: 100, 'Aspect_perf': True, 'Tense_past': True, 'VerbForm_part': True}\n",
      "{74: 84, 'Degree_pos': True}\n",
      "{74: 89, 'ConjType_comp': True}\n",
      "{74: 90}\n",
      "{74: 92, 'Number_sing': True}\n",
      "{74: 100, 'Number_sing': True, 'Person_three': True, 'Tense_pres': True, 'VerbForm_fin': True}\n",
      "{74: 100, 'Aspect_perf': True, 'Tense_past': True, 'VerbForm_part': True}\n",
      "{74: 94, 'PartType_inf': True, 'VerbForm_inf': True}\n",
      "{74: 86, 'Degree_pos': True}\n",
      "{74: 100, 'VerbForm_inf': True}\n",
      "{74: 90}\n",
      "{74: 92, 'Number_sing': True}\n",
      "{74: 89, 'ConjType_comp': True}\n",
      "{74: 86, 'Degree_pos': True}\n",
      "{74: 100, 'Tense_pres': True, 'VerbForm_fin': True}\n",
      "{74: 92, 'Number_sing': True}\n",
      "{74: 92, 'Number_plur': True}\n",
      "{74: 85}\n",
      "{74: 93, 'NumType_card': True}\n",
      "{74: 93, 'NumType_card': True}\n",
      "{74: 93, 'NumType_card': True}\n",
      "{74: 97, 'PunctType_peri': True}\n",
      "{74: 103}\n",
      "{74: 96, 'NounType_prop': True, 'Number_sing': True}\n",
      "{74: 92, 'Number_sing': True}\n"
     ]
    }
   ],
   "source": [
    "for token in doc:\n",
    "    print(nlp.vocab.morphology.tag_map[token.tag_])"
   ]
  },
  {
   "cell_type": "code",
   "execution_count": 5,
   "metadata": {
    "scrolled": true
   },
   "outputs": [
    {
     "name": "stdout",
     "output_type": "stream",
     "text": [
      "seen\n",
      "Last seen leaving\n",
      "considered\n",
      "urged\n",
      "approach\n",
      "instead contact\n"
     ]
    },
    {
     "name": "stderr",
     "output_type": "stream",
     "text": [
      "/Users/jjk743/opt/anaconda3/lib/python3.8/site-packages/textacy/extract.py:334: DeprecationWarning: `pos_regex_matches()` has been deprecated! for similar but more powerful and performant functionality, use `textacy.extract.matches()` instead.\n",
      "  utils.deprecated(\n"
     ]
    }
   ],
   "source": [
    "about_talk_text = (\"Have you seen Darren Macquarie (55yo)? Last seen leaving a hospital in Westmead yesterday (Friday 11 September 2020). He is considered dangerous and the public is urged to not approach the man but instead contact Crime Stoppers on 1800 333 000. https://t.co/HnrwcTXVWC https://t.co/EKdnDfSoJD\")\n",
    "pattern = r'(<VERB>?<ADV>*<VERB>+)'\n",
    "about_talk_doc = textacy.make_spacy_doc(about_talk_text,\n",
    "                                         lang='en_core_web_lg')\n",
    "verb_phrases = textacy.extract.pos_regex_matches(about_talk_doc, pattern)\n",
    "# Print all Verb Phrase\n",
    "for chunk in verb_phrases:\n",
    "    print(chunk.text)\n",
    "# Extract Noun Phrase to explain what nouns are involved\n",
    "#for chunk in about_talk_doc.noun_chunks:\n",
    "    #print (chunk)"
   ]
  },
  {
   "cell_type": "code",
   "execution_count": 6,
   "metadata": {},
   "outputs": [
    {
     "name": "stdout",
     "output_type": "stream",
     "text": [
      "seen\n",
      "Last seen leaving\n",
      "considered\n",
      "urged\n",
      "approach\n",
      "instead contact\n"
     ]
    },
    {
     "name": "stderr",
     "output_type": "stream",
     "text": [
      "/Users/jjk743/opt/anaconda3/lib/python3.8/site-packages/textacy/extract.py:334: DeprecationWarning: `pos_regex_matches()` has been deprecated! for similar but more powerful and performant functionality, use `textacy.extract.matches()` instead.\n",
      "  utils.deprecated(\n"
     ]
    }
   ],
   "source": [
    "about_talk_text = (\"Have you seen Darren Macquarie (55yo)? Last seen leaving a hospital in Westmead yesterday (Friday 11 September 2020). He is considered dangerous and the public is urged to not approach the man but instead contact Crime Stoppers on 1800 333 000. https://t.co/HnrwcTXVWC https://t.co/EKdnDfSoJD\")\n",
    "pattern = r'(<VERB>?<ADV>*<VERB>+)'\n",
    "about_talk_doc = textacy.make_spacy_doc(about_talk_text,\n",
    "                                         lang='en_core_web_lg')\n",
    "verb_phrases = textacy.extract.pos_regex_matches(about_talk_doc, pattern)\n",
    "# Print all Verb Phrase\n",
    "for chunk in verb_phrases:\n",
    "    print(chunk.text)\n",
    "# Extract Noun Phrase to explain what nouns are involved\n",
    "#for chunk in about_talk_doc.noun_chunks:\n",
    "    #print (chunk)"
   ]
  }
 ],
 "metadata": {
  "kernelspec": {
   "display_name": "Python 3",
   "language": "python",
   "name": "python3"
  },
  "language_info": {
   "codemirror_mode": {
    "name": "ipython",
    "version": 3
   },
   "file_extension": ".py",
   "mimetype": "text/x-python",
   "name": "python",
   "nbconvert_exporter": "python",
   "pygments_lexer": "ipython3",
   "version": "3.8.3"
  }
 },
 "nbformat": 4,
 "nbformat_minor": 4
}
