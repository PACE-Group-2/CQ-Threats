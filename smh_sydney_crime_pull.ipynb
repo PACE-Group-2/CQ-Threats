{
 "cells": [
  {
   "cell_type": "code",
   "execution_count": 1,
   "metadata": {},
   "outputs": [],
   "source": [
    "#import libraries\n",
    "import bs4\n",
    "from urllib.request import urlopen as uReq\n",
    "from bs4 import BeautifulSoup as soup\n",
    "import csv\n"
   ]
  },
  {
   "cell_type": "code",
   "execution_count": 2,
   "metadata": {},
   "outputs": [],
   "source": [
    "#grabbing the webpage html\n",
    "url = 'https://www.smh.com.au/topic/sydney-crime-62n'\n",
    "uClient = uReq(url)\n",
    "page_html = uClient.read()\n",
    "uClient.close()"
   ]
  },
  {
   "cell_type": "code",
   "execution_count": 3,
   "metadata": {},
   "outputs": [],
   "source": [
    "#html parsing\n",
    "page_soup = soup(page_html, \"html.parser\")\n",
    "articles = page_soup.findAll(\"div\", {\"class\":\"_2g9tm\"})"
   ]
  },
  {
   "cell_type": "code",
   "execution_count": 4,
   "metadata": {},
   "outputs": [],
   "source": [
    "#Creating csv file\n",
    "with open ('data/smh_sydney_crime.csv', 'w') as file:\n",
    "    w = csv.writer(file)\n",
    "\n",
    "#Creating Headers for csv file \n",
    "    w.writerow(['Title', 'Summary', 'Date'])\n",
    "\n",
    "\n",
    "#grabbing news article information\n",
    "    for article in articles:\n",
    "        title = article.find(\"a\",{\"data-test\": \"article-link\"}).get_text()\n",
    "\n",
    "        summary = article.find(\"p\",{\"class\": \"_3b7W- _3XEsE\"}).get_text()\n",
    "\n",
    "        date = article.find(\"time\", {\"class\": \"_2_zR-\"}).get_text()\n",
    "\n",
    "        w.writerow([title, summary, date])\n"
   ]
  },
  {
   "cell_type": "code",
   "execution_count": null,
   "metadata": {},
   "outputs": [],
   "source": []
  }
 ],
 "metadata": {
  "kernelspec": {
   "display_name": "Python 3",
   "language": "python",
   "name": "python3"
  },
  "language_info": {
   "codemirror_mode": {
    "name": "ipython",
    "version": 3
   },
   "file_extension": ".py",
   "mimetype": "text/x-python",
   "name": "python",
   "nbconvert_exporter": "python",
   "pygments_lexer": "ipython3",
   "version": "3.8.3"
  }
 },
 "nbformat": 4,
 "nbformat_minor": 4
}
