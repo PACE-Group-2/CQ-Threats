{
 "cells": [
  {
   "cell_type": "code",
   "execution_count": 1,
   "metadata": {},
   "outputs": [],
   "source": [
    "import pandas as pd\n",
    "from sklearn.preprocessing import LabelEncoder\n",
    "from sklearn.model_selection import train_test_split\n",
    "from sklearn.feature_extraction.text import TfidfVectorizer\n",
    "from sklearn.naive_bayes import MultinomialNB\n",
    "from sklearn.metrics import classification_report"
   ]
  },
  {
   "cell_type": "code",
   "execution_count": 2,
   "metadata": {},
   "outputs": [
    {
     "data": {
      "text/html": [
       "<div>\n",
       "<style scoped>\n",
       "    .dataframe tbody tr th:only-of-type {\n",
       "        vertical-align: middle;\n",
       "    }\n",
       "\n",
       "    .dataframe tbody tr th {\n",
       "        vertical-align: top;\n",
       "    }\n",
       "\n",
       "    .dataframe thead th {\n",
       "        text-align: right;\n",
       "    }\n",
       "</style>\n",
       "<table border=\"1\" class=\"dataframe\">\n",
       "  <thead>\n",
       "    <tr style=\"text-align: right;\">\n",
       "      <th></th>\n",
       "      <th>Title</th>\n",
       "      <th>Summary</th>\n",
       "      <th>Classification</th>\n",
       "      <th>Human_Safety</th>\n",
       "      <th>Infrastructure</th>\n",
       "      <th>Communication</th>\n",
       "      <th>Finance</th>\n",
       "      <th>Controllable</th>\n",
       "    </tr>\n",
       "  </thead>\n",
       "  <tbody>\n",
       "    <tr>\n",
       "      <th>0</th>\n",
       "      <td>Teen charged with sexual assault of young girl...</td>\n",
       "      <td>A 19-year-old man has been charged over the al...</td>\n",
       "      <td>Physical</td>\n",
       "      <td>Not safe</td>\n",
       "      <td>No impact</td>\n",
       "      <td>No impact</td>\n",
       "      <td>No impact</td>\n",
       "      <td>Yes</td>\n",
       "    </tr>\n",
       "    <tr>\n",
       "      <th>1</th>\n",
       "      <td>Covert war crimes inquiry compromised by forme...</td>\n",
       "      <td>A corruption investigation was launched after ...</td>\n",
       "      <td>No threat</td>\n",
       "      <td>Safe</td>\n",
       "      <td>No impact</td>\n",
       "      <td>No impact</td>\n",
       "      <td>No impact</td>\n",
       "      <td>Yes</td>\n",
       "    </tr>\n",
       "    <tr>\n",
       "      <th>2</th>\n",
       "      <td>Cyber-attack targeted 186,000 Service NSW cust...</td>\n",
       "      <td>A cyber-security breach at Service NSW earlier...</td>\n",
       "      <td>Cyber</td>\n",
       "      <td>Possible safe</td>\n",
       "      <td>No impact</td>\n",
       "      <td>Impact</td>\n",
       "      <td>Impact</td>\n",
       "      <td>No</td>\n",
       "    </tr>\n",
       "    <tr>\n",
       "      <th>3</th>\n",
       "      <td>Australians involved in online porn data breach</td>\n",
       "      <td>A data leak from an international pornography ...</td>\n",
       "      <td>Cyber</td>\n",
       "      <td>Safe</td>\n",
       "      <td>No impact</td>\n",
       "      <td>Impact</td>\n",
       "      <td>No impact</td>\n",
       "      <td>Yes</td>\n",
       "    </tr>\n",
       "    <tr>\n",
       "      <th>4</th>\n",
       "      <td>AFL fans' private chats exposed in 'mass data ...</td>\n",
       "      <td>A large data leak from an AFL fan website has ...</td>\n",
       "      <td>Cyber</td>\n",
       "      <td>Safe</td>\n",
       "      <td>No impact</td>\n",
       "      <td>Impact</td>\n",
       "      <td>Impact</td>\n",
       "      <td>No</td>\n",
       "    </tr>\n",
       "  </tbody>\n",
       "</table>\n",
       "</div>"
      ],
      "text/plain": [
       "                                               Title  \\\n",
       "0  Teen charged with sexual assault of young girl...   \n",
       "1  Covert war crimes inquiry compromised by forme...   \n",
       "2  Cyber-attack targeted 186,000 Service NSW cust...   \n",
       "3    Australians involved in online porn data breach   \n",
       "4  AFL fans' private chats exposed in 'mass data ...   \n",
       "\n",
       "                                             Summary Classification  \\\n",
       "0  A 19-year-old man has been charged over the al...       Physical   \n",
       "1  A corruption investigation was launched after ...      No threat   \n",
       "2  A cyber-security breach at Service NSW earlier...          Cyber   \n",
       "3  A data leak from an international pornography ...          Cyber   \n",
       "4  A large data leak from an AFL fan website has ...          Cyber   \n",
       "\n",
       "    Human_Safety Infrastructure Communication    Finance Controllable  \n",
       "0       Not safe      No impact     No impact  No impact          Yes  \n",
       "1           Safe      No impact     No impact  No impact          Yes  \n",
       "2  Possible safe      No impact        Impact     Impact           No  \n",
       "3           Safe      No impact        Impact  No impact          Yes  \n",
       "4           Safe      No impact        Impact     Impact           No  "
      ]
     },
     "execution_count": 2,
     "metadata": {},
     "output_type": "execute_result"
    }
   ],
   "source": [
    "df = pd.read_csv(\"data/All-in-one2.csv\")\n",
    "df.head()"
   ]
  },
  {
   "cell_type": "code",
   "execution_count": 3,
   "metadata": {},
   "outputs": [],
   "source": [
    "vectorizer = TfidfVectorizer(max_features = 5000)"
   ]
  },
  {
   "cell_type": "markdown",
   "metadata": {},
   "source": [
    "# Text classification\n",
    "\n",
    "We will need to classify each of the below columns individually to then calculate the threat level(%).\n",
    "1. Classification (Physical, Cyber, No threat)\n",
    "2. Human Safety (Safe, Possible Safe, Not Safe)\n",
    "3. Infrastructure (No impact, Imapct)\n",
    "4. Communication (No impact, Imapct)\n",
    "5. Finance (No impact, Imapct)\n",
    "6. Controllable (Yes, No)"
   ]
  },
  {
   "cell_type": "markdown",
   "metadata": {},
   "source": [
    "## 1. Threat Classifier"
   ]
  },
  {
   "cell_type": "code",
   "execution_count": 4,
   "metadata": {},
   "outputs": [],
   "source": [
    "# X is set the same for all six models as we will be using the summary to \n",
    "# predict/classify the values required to calculate the threat level\n",
    "X = vectorizer.fit_transform(df.Summary).toarray()\n",
    "enc_cl = LabelEncoder()\n",
    "y = enc_cl.fit_transform(df.Classification)\n",
    "X_train, X_test, y_train_clf, y_test_clf = train_test_split(X, y, random_state=42)"
   ]
  },
  {
   "cell_type": "code",
   "execution_count": 5,
   "metadata": {},
   "outputs": [
    {
     "data": {
      "text/plain": [
       "array(['Cyber', 'No threat', 'Physical'], dtype=object)"
      ]
     },
     "execution_count": 5,
     "metadata": {},
     "output_type": "execute_result"
    }
   ],
   "source": [
    "target_names_cl = enc_cl.inverse_transform([0, 1, 2])\n",
    "target_names_cl"
   ]
  },
  {
   "cell_type": "code",
   "execution_count": 6,
   "metadata": {},
   "outputs": [
    {
     "data": {
      "text/plain": [
       "MultinomialNB()"
      ]
     },
     "execution_count": 6,
     "metadata": {},
     "output_type": "execute_result"
    }
   ],
   "source": [
    "clf_mnb = MultinomialNB()\n",
    "clf_mnb.fit(X_train, y_train_clf)"
   ]
  },
  {
   "cell_type": "code",
   "execution_count": 7,
   "metadata": {},
   "outputs": [],
   "source": [
    "y_pred_mnb = clf_mnb.predict(X_test)"
   ]
  },
  {
   "cell_type": "code",
   "execution_count": 8,
   "metadata": {},
   "outputs": [
    {
     "data": {
      "text/plain": [
       "array(['Physical', 'Physical', 'Cyber', 'Physical', 'Cyber', 'Cyber',\n",
       "       'Cyber', 'Cyber', 'Cyber', 'Physical', 'Cyber', 'Cyber', 'Cyber',\n",
       "       'Physical', 'Physical', 'Cyber', 'Cyber', 'Physical', 'Physical',\n",
       "       'Physical', 'Cyber'], dtype=object)"
      ]
     },
     "execution_count": 8,
     "metadata": {},
     "output_type": "execute_result"
    }
   ],
   "source": [
    "enc_cl.inverse_transform(y_pred_mnb)"
   ]
  },
  {
   "cell_type": "code",
   "execution_count": 9,
   "metadata": {},
   "outputs": [
    {
     "data": {
      "text/plain": [
       "array(['Physical', 'Physical', 'Cyber', 'Physical', 'Cyber', 'Cyber',\n",
       "       'Cyber', 'Cyber', 'Cyber', 'Physical', 'Cyber', 'Cyber', 'Cyber',\n",
       "       'Physical', 'No threat', 'Cyber', 'Physical', 'Physical',\n",
       "       'Physical', 'No threat', 'Cyber'], dtype=object)"
      ]
     },
     "execution_count": 9,
     "metadata": {},
     "output_type": "execute_result"
    }
   ],
   "source": [
    "enc_cl.inverse_transform(y_test_clf)"
   ]
  },
  {
   "cell_type": "code",
   "execution_count": 10,
   "metadata": {},
   "outputs": [
    {
     "name": "stdout",
     "output_type": "stream",
     "text": [
      "              precision    recall  f1-score   support\n",
      "\n",
      "       Cyber       0.92      1.00      0.96        11\n",
      "   No threat       0.00      0.00      0.00         2\n",
      "    Physical       0.78      0.88      0.82         8\n",
      "\n",
      "    accuracy                           0.86        21\n",
      "   macro avg       0.56      0.62      0.59        21\n",
      "weighted avg       0.78      0.86      0.81        21\n",
      "\n"
     ]
    },
    {
     "name": "stderr",
     "output_type": "stream",
     "text": [
      "/Users/jjk743/opt/anaconda3/lib/python3.8/site-packages/sklearn/metrics/_classification.py:1221: UndefinedMetricWarning: Precision and F-score are ill-defined and being set to 0.0 in labels with no predicted samples. Use `zero_division` parameter to control this behavior.\n",
      "  _warn_prf(average, modifier, msg_start, len(result))\n"
     ]
    }
   ],
   "source": [
    "# Evaluating model performance\n",
    "print(classification_report(y_test_clf, y_pred_mnb, target_names = target_names_cl))"
   ]
  },
  {
   "cell_type": "markdown",
   "metadata": {},
   "source": [
    "## 2. Human Safety Classifier"
   ]
  },
  {
   "cell_type": "code",
   "execution_count": 11,
   "metadata": {},
   "outputs": [
    {
     "name": "stdout",
     "output_type": "stream",
     "text": [
      "               precision    recall  f1-score   support\n",
      "\n",
      "     Not safe       1.00      0.14      0.25         7\n",
      "Possible safe       1.00      0.17      0.29         6\n",
      "         Safe       0.42      1.00      0.59         8\n",
      "\n",
      "     accuracy                           0.48        21\n",
      "    macro avg       0.81      0.44      0.38        21\n",
      " weighted avg       0.78      0.48      0.39        21\n",
      "\n"
     ]
    }
   ],
   "source": [
    "enc_hs = LabelEncoder()\n",
    "y = enc_hs.fit_transform(df['Human_Safety'])\n",
    "X_train, X_test, y_train_hs, y_test_hs = train_test_split(X, y, random_state=42)\n",
    "target_names_hs = enc_hs.inverse_transform([0, 1, 2])\n",
    "hs_mnb = MultinomialNB()\n",
    "hs_mnb.fit(X_train, y_train_hs)\n",
    "y_pred_mnb = hs_mnb.predict(X_test)\n",
    "# Evaluating model performance\n",
    "print(classification_report(y_test_hs, y_pred_mnb, target_names = target_names_hs))"
   ]
  },
  {
   "cell_type": "markdown",
   "metadata": {},
   "source": [
    "## 3. Infrastructure"
   ]
  },
  {
   "cell_type": "code",
   "execution_count": 12,
   "metadata": {},
   "outputs": [
    {
     "name": "stdout",
     "output_type": "stream",
     "text": [
      "              precision    recall  f1-score   support\n",
      "\n",
      "      Impact       0.00      0.00      0.00         2\n",
      "   No impact       0.90      1.00      0.95        19\n",
      "\n",
      "    accuracy                           0.90        21\n",
      "   macro avg       0.45      0.50      0.48        21\n",
      "weighted avg       0.82      0.90      0.86        21\n",
      "\n"
     ]
    },
    {
     "name": "stderr",
     "output_type": "stream",
     "text": [
      "/Users/jjk743/opt/anaconda3/lib/python3.8/site-packages/sklearn/metrics/_classification.py:1221: UndefinedMetricWarning: Precision and F-score are ill-defined and being set to 0.0 in labels with no predicted samples. Use `zero_division` parameter to control this behavior.\n",
      "  _warn_prf(average, modifier, msg_start, len(result))\n"
     ]
    }
   ],
   "source": [
    "enc_i = LabelEncoder()\n",
    "y = enc_i.fit_transform(df['Infrastructure'])\n",
    "X_train, X_test, y_train_i, y_test_i = train_test_split(X, y, random_state=42)\n",
    "target_names_i = enc_i.inverse_transform([0, 1])\n",
    "i_mnb = MultinomialNB()\n",
    "i_mnb.fit(X_train, y_train_i)\n",
    "y_pred_mnb = i_mnb.predict(X_test)\n",
    "# Evaluating model performance\n",
    "print(classification_report(y_test_i, y_pred_mnb, target_names = target_names_i))"
   ]
  },
  {
   "cell_type": "markdown",
   "metadata": {},
   "source": [
    "## 4. Communication"
   ]
  },
  {
   "cell_type": "code",
   "execution_count": 13,
   "metadata": {},
   "outputs": [
    {
     "name": "stdout",
     "output_type": "stream",
     "text": [
      "              precision    recall  f1-score   support\n",
      "\n",
      "      Impact       1.00      0.70      0.82        10\n",
      "   No impact       0.79      1.00      0.88        11\n",
      "\n",
      "    accuracy                           0.86        21\n",
      "   macro avg       0.89      0.85      0.85        21\n",
      "weighted avg       0.89      0.86      0.85        21\n",
      "\n"
     ]
    }
   ],
   "source": [
    "enc_c = LabelEncoder()\n",
    "y = enc_c.fit_transform(df['Communication'])\n",
    "X_train, X_test, y_train_c, y_test_c = train_test_split(X, y, random_state=42)\n",
    "target_names_c = enc_c.inverse_transform([0, 1])\n",
    "c_mnb = MultinomialNB()\n",
    "c_mnb.fit(X_train, y_train_c)\n",
    "y_pred_mnb = c_mnb.predict(X_test)\n",
    "# Evaluating model performance\n",
    "print(classification_report(y_test_c, y_pred_mnb, target_names = target_names_c))"
   ]
  },
  {
   "cell_type": "markdown",
   "metadata": {},
   "source": [
    "## 5. Finance"
   ]
  },
  {
   "cell_type": "code",
   "execution_count": 14,
   "metadata": {
    "scrolled": true
   },
   "outputs": [
    {
     "name": "stdout",
     "output_type": "stream",
     "text": [
      "              precision    recall  f1-score   support\n",
      "\n",
      "      Impact       0.00      0.00      0.00         7\n",
      "   No impact       0.67      1.00      0.80        14\n",
      "\n",
      "    accuracy                           0.67        21\n",
      "   macro avg       0.33      0.50      0.40        21\n",
      "weighted avg       0.44      0.67      0.53        21\n",
      "\n"
     ]
    },
    {
     "name": "stderr",
     "output_type": "stream",
     "text": [
      "/Users/jjk743/opt/anaconda3/lib/python3.8/site-packages/sklearn/metrics/_classification.py:1221: UndefinedMetricWarning: Precision and F-score are ill-defined and being set to 0.0 in labels with no predicted samples. Use `zero_division` parameter to control this behavior.\n",
      "  _warn_prf(average, modifier, msg_start, len(result))\n"
     ]
    }
   ],
   "source": [
    "enc_f = LabelEncoder()\n",
    "y = enc_f.fit_transform(df['Finance'])\n",
    "X_train, X_test, y_train_f, y_test_f = train_test_split(X, y, random_state=42)\n",
    "target_names_f = enc_f.inverse_transform([0, 1])\n",
    "f_mnb = MultinomialNB()\n",
    "f_mnb.fit(X_train, y_train_f)\n",
    "y_pred_mnb = f_mnb.predict(X_test)\n",
    "# Evaluating model performance\n",
    "print(classification_report(y_test_f, y_pred_mnb, target_names = target_names_f))"
   ]
  },
  {
   "cell_type": "markdown",
   "metadata": {},
   "source": [
    "## 6. Controllable"
   ]
  },
  {
   "cell_type": "code",
   "execution_count": 15,
   "metadata": {
    "scrolled": true
   },
   "outputs": [
    {
     "name": "stdout",
     "output_type": "stream",
     "text": [
      "              precision    recall  f1-score   support\n",
      "\n",
      "          No       0.00      0.00      0.00        11\n",
      "         Yes       0.48      1.00      0.65        10\n",
      "\n",
      "    accuracy                           0.48        21\n",
      "   macro avg       0.24      0.50      0.32        21\n",
      "weighted avg       0.23      0.48      0.31        21\n",
      "\n"
     ]
    },
    {
     "name": "stderr",
     "output_type": "stream",
     "text": [
      "/Users/jjk743/opt/anaconda3/lib/python3.8/site-packages/sklearn/metrics/_classification.py:1221: UndefinedMetricWarning: Precision and F-score are ill-defined and being set to 0.0 in labels with no predicted samples. Use `zero_division` parameter to control this behavior.\n",
      "  _warn_prf(average, modifier, msg_start, len(result))\n"
     ]
    }
   ],
   "source": [
    "enc_con = LabelEncoder()\n",
    "y = enc_con.fit_transform(df['Controllable'])\n",
    "X_train, X_test, y_train_con, y_test_con = train_test_split(X, y, random_state=42)\n",
    "target_names_con = enc_con.inverse_transform([0, 1])\n",
    "con_mnb = MultinomialNB()\n",
    "con_mnb.fit(X_train, y_train_con)\n",
    "y_pred_mnb = con_mnb.predict(X_test)\n",
    "# Evaluating model performance\n",
    "print(classification_report(y_test_con, y_pred_mnb, target_names = target_names_con))"
   ]
  },
  {
   "cell_type": "markdown",
   "metadata": {},
   "source": [
    "## Example\n",
    "Now we are going to try our classification models on a sample text data."
   ]
  },
  {
   "cell_type": "code",
   "execution_count": 16,
   "metadata": {},
   "outputs": [],
   "source": [
    "# This is an original tweet by NSW police on September 12th, 2020\n",
    "text1 = [\"Have you seen Darren Macquarie (55yo)? Last seen leaving a hospital in Westmead yesterday (Friday 11 September 2020). He is considered dangerous and the public is urged to not approach the man but instead contact Crime Stoppers on 1800 333 000. https://t.co/HnrwcTXVWC https://t.co/EKdnDfSoJD\"]"
   ]
  },
  {
   "cell_type": "code",
   "execution_count": 17,
   "metadata": {},
   "outputs": [],
   "source": [
    "text2 = [\"Hackers got into Macquarie university systems, few student details breached\"]"
   ]
  },
  {
   "cell_type": "code",
   "execution_count": 18,
   "metadata": {},
   "outputs": [],
   "source": [
    "text_vectorizer1 = vectorizer.transform(text1)\n",
    "text_vectorizer2 = vectorizer.transform(text2)"
   ]
  },
  {
   "cell_type": "code",
   "execution_count": 19,
   "metadata": {},
   "outputs": [],
   "source": [
    "cl1 = enc_cl.inverse_transform(clf_mnb.predict(text_vectorizer1))\n",
    "cl2 = enc_hs.inverse_transform(hs_mnb.predict(text_vectorizer1))\n",
    "cl3 = enc_i.inverse_transform(i_mnb.predict(text_vectorizer1))\n",
    "cl4 = enc_c.inverse_transform(c_mnb.predict(text_vectorizer1))\n",
    "cl5 = enc_f.inverse_transform(f_mnb.predict(text_vectorizer1))\n",
    "cl6 = enc_con.inverse_transform(con_mnb.predict(text_vectorizer1))"
   ]
  },
  {
   "cell_type": "code",
   "execution_count": 20,
   "metadata": {},
   "outputs": [
    {
     "name": "stdout",
     "output_type": "stream",
     "text": [
      "The first text has been classified as a Physical threat.\n",
      "Human Safety:  Safe\n",
      "Infrastructure:  No impact\n",
      "Communication:  No impact\n",
      "Finance:  No impact\n",
      "Controllable:  Yes\n"
     ]
    }
   ],
   "source": [
    "print(\"The first text has been classified as a\", cl1[0], \"threat.\")\n",
    "print(\"Human Safety: \", cl2[0])\n",
    "print(\"Infrastructure: \", cl3[0])\n",
    "print(\"Communication: \", cl4[0])\n",
    "print(\"Finance: \", cl5[0])\n",
    "print(\"Controllable: \", cl6[0])"
   ]
  },
  {
   "cell_type": "code",
   "execution_count": 21,
   "metadata": {},
   "outputs": [],
   "source": [
    "cl1 = enc_cl.inverse_transform(clf_mnb.predict(text_vectorizer2))\n",
    "cl2 = enc_hs.inverse_transform(hs_mnb.predict(text_vectorizer2))\n",
    "cl3 = enc_i.inverse_transform(i_mnb.predict(text_vectorizer2))\n",
    "cl4 = enc_c.inverse_transform(c_mnb.predict(text_vectorizer2))\n",
    "cl5 = enc_f.inverse_transform(f_mnb.predict(text_vectorizer2))\n",
    "cl6 = enc_con.inverse_transform(con_mnb.predict(text_vectorizer2))"
   ]
  },
  {
   "cell_type": "code",
   "execution_count": 22,
   "metadata": {},
   "outputs": [
    {
     "name": "stdout",
     "output_type": "stream",
     "text": [
      "The second text has been classified as a Cyber threat.\n",
      "Human Safety:  Safe\n",
      "Infrastructure:  No impact\n",
      "Communication:  No impact\n",
      "Finance:  No impact\n",
      "Controllable:  Yes\n"
     ]
    }
   ],
   "source": [
    "print(\"The second text has been classified as a\", cl1[0], \"threat.\")\n",
    "print(\"Human Safety: \", cl2[0])\n",
    "print(\"Infrastructure: \", cl3[0])\n",
    "print(\"Communication: \", cl4[0])\n",
    "print(\"Finance: \", cl5[0])\n",
    "print(\"Controllable: \", cl6[0])"
   ]
  },
  {
   "cell_type": "code",
   "execution_count": 23,
   "metadata": {},
   "outputs": [],
   "source": [
    "def TP_calc(doc, src, verf):\n",
    "    s = 2\n",
    "    v = 2\n",
    "    if(src == \"Twitter\"):\n",
    "        src = 1\n",
    "        if(verf == \"FALSE\"):\n",
    "            v = 1\n",
    "    t_vec = vectorizer.transform(doc)\n",
    "    cl = clf_mnb.predict(t_vec)\n",
    "    hs = hs_mnb.predict(t_vec)\n",
    "    i = i_mnb.predict(t_vec)\n",
    "    c = c_mnb.predict(t_vec)\n",
    "    f = f_mnb.predict(t_vec)\n",
    "    con = con_mnb.predict(t_vec)\n",
    "    \n",
    "    if(cl == 0):\n",
    "        cl = 1\n",
    "    if(cl == 1):\n",
    "        cl = 0\n",
    "    \n",
    "    if(hs == 0):\n",
    "        hs = 2\n",
    "    if(hs == 2):\n",
    "        hs = 0\n",
    "        \n",
    "    if(i == 0):\n",
    "        i = 1\n",
    "    if(i == 1):\n",
    "        i = 0\n",
    "        \n",
    "    if(c == 0):\n",
    "        c = 1\n",
    "    if(c == 1):\n",
    "        c = 0\n",
    "        \n",
    "    if(f == 0):\n",
    "        f = 1\n",
    "    if(f == 1):\n",
    "        f = 0\n",
    "    \n",
    "    if(con == 0):\n",
    "        con = 1\n",
    "    if(con == 1):\n",
    "        con = 0\n",
    "    print(hs, con, i, c, f, cl, s, v)\n",
    "    return (0.2*hs + 0.15*con + 0.06*i + 0.06*c + 0.06*f + 0.07*cl + 0.04*s + 0.025*v)\n"
   ]
  },
  {
   "cell_type": "code",
   "execution_count": 24,
   "metadata": {},
   "outputs": [
    {
     "name": "stdout",
     "output_type": "stream",
     "text": [
      "0 0 0 0 0 [2] 2 2\n",
      "[27.] %\n"
     ]
    }
   ],
   "source": [
    "print(TP_calc(text1, \"Twitter\", \"TRUE\")*100, \"%\")"
   ]
  },
  {
   "cell_type": "code",
   "execution_count": 25,
   "metadata": {},
   "outputs": [
    {
     "name": "stdout",
     "output_type": "stream",
     "text": [
      "0 0 0 0 0 0 2 2\n",
      "13.0 %\n"
     ]
    }
   ],
   "source": [
    "print(TP_calc(text2, \"Twitter\", \"TRUE\")*100, \"%\")"
   ]
  },
  {
   "cell_type": "code",
   "execution_count": null,
   "metadata": {},
   "outputs": [],
   "source": []
  }
 ],
 "metadata": {
  "kernelspec": {
   "display_name": "Python 3",
   "language": "python",
   "name": "python3"
  },
  "language_info": {
   "codemirror_mode": {
    "name": "ipython",
    "version": 3
   },
   "file_extension": ".py",
   "mimetype": "text/x-python",
   "name": "python",
   "nbconvert_exporter": "python",
   "pygments_lexer": "ipython3",
   "version": "3.8.3"
  }
 },
 "nbformat": 4,
 "nbformat_minor": 4
}
