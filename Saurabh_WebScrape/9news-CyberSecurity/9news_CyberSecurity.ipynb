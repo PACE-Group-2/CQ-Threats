{
 "cells": [
  {
   "cell_type": "code",
   "execution_count": 1,
   "metadata": {},
   "outputs": [],
   "source": [
    "#import libraries\n",
    "\n",
    "import pandas as pd\n",
    "import requests\n",
    "from bs4 import BeautifulSoup"
   ]
  },
  {
   "cell_type": "code",
   "execution_count": 2,
   "metadata": {},
   "outputs": [],
   "source": [
    "#send request\n",
    "url = \"https://www.9news.com.au/cyber-security\"\n",
    "page = requests.get(url)\n",
    "\n",
    "#valriable to store parse datas\n",
    "soup = BeautifulSoup(page.text, \"html.parser\")\n"
   ]
  },
  {
   "cell_type": "code",
   "execution_count": 3,
   "metadata": {},
   "outputs": [],
   "source": [
    "#read news\n",
    "news = []\n",
    "news_element = soup.find_all(class_ =\"story__abstract\")\n",
    "\n",
    "for item in news_element:\n",
    "    news.append(item.text)"
   ]
  },
  {
   "cell_type": "code",
   "execution_count": 4,
   "metadata": {},
   "outputs": [],
   "source": [
    "#read news_title\n",
    "\n",
    "news_title = []\n",
    "\n",
    "news_title_element = soup.find_all(class_=\"story__headline__text\")\n",
    "\n",
    "for item in news_title_element:\n",
    "    news_title.append(item.text)\n",
    "    \n",
    "#extract location\n",
    "location = []\n",
    "\n",
    "for i in news_title:\n",
    "    small = i.lower()\n",
    "    if \"australia\" in small:\n",
    "        location.append(\"Australia\")\n",
    "    elif (\"nsw\" or \"new south whales\") in small:\n",
    "        location.append(\"New South Whales\")\n",
    "    elif (\"vic\" or \"victoria\") in small:\n",
    "        location.append(\"Victoria\")\n",
    "    elif (\"qld\" or \"queensland\") in small:\n",
    "        location.append(\"Queensland\")\n",
    "    elif (\"tas\" or \"tasmania\") in small:\n",
    "        location.append(\"Tasmania\")\n",
    "    elif (\"wa\" or \"western australia\") in small:\n",
    "        location.append(\"Western Australia\")\n",
    "    elif (\"sa\" or \"south australia\") in small:\n",
    "        location.append(\"South Australia\")\n",
    "    elif (\"nt\" or \"northern territory\") in small:\n",
    "        location.append(\"Northern Territory\")\n",
    "    elif (\"act\" or \"australian capital territory\") in small:\n",
    "        location.append(\"Australian Capital Territory\")\n",
    "    else:\n",
    "        location.append(\"Outside Australia\")\n"
   ]
  },
  {
   "cell_type": "code",
   "execution_count": 5,
   "metadata": {},
   "outputs": [],
   "source": [
    "#read date\n",
    "\n",
    "date = []\n",
    "\n",
    "date_element = soup.find_all(class_=\"story__time\")\n",
    "\n",
    "for item in date_element:\n",
    "    date.append(item.text)"
   ]
  },
  {
   "cell_type": "code",
   "execution_count": 6,
   "metadata": {},
   "outputs": [],
   "source": [
    "#create dataframe\n",
    "\n",
    "final_array = []\n",
    "\n",
    "for news,loca,title,da in zip(news,location,news_title,date):\n",
    "    final_array.append({\"Date\":da, \"Location\":loca,\"Headlines\":title,\"News\":news})"
   ]
  },
  {
   "cell_type": "code",
   "execution_count": 7,
   "metadata": {},
   "outputs": [],
   "source": [
    "#create dataframe\n",
    "\n",
    "df = pd.DataFrame(final_array)"
   ]
  },
  {
   "cell_type": "code",
   "execution_count": 8,
   "metadata": {},
   "outputs": [],
   "source": [
    "#export the dataframe to into a location and save it as an excel file\n",
    "df.to_excel(r'C:\\Users\\Saurabh\\Desktop\\MQ\\Session 2\\Comp3850 (PACE)\\deliv 3\\Github\\CQ-Threats\\Saurabh_WebScrape\\9news-CyberSecurity\\9news_CyberSecurity_List.xlsx', index = False)"
   ]
  },
  {
   "cell_type": "code",
   "execution_count": null,
   "metadata": {},
   "outputs": [],
   "source": []
  }
 ],
 "metadata": {
  "kernelspec": {
   "display_name": "Python 3",
   "language": "python",
   "name": "python3"
  },
  "language_info": {
   "codemirror_mode": {
    "name": "ipython",
    "version": 3
   },
   "file_extension": ".py",
   "mimetype": "text/x-python",
   "name": "python",
   "nbconvert_exporter": "python",
   "pygments_lexer": "ipython3",
   "version": "3.8.3"
  }
 },
 "nbformat": 4,
 "nbformat_minor": 4
}
