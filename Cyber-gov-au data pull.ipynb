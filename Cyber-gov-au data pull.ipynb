{
 "cells": [
  {
   "cell_type": "code",
   "execution_count": 1,
   "metadata": {},
   "outputs": [],
   "source": [
    "import bs4\n",
    "from urllib.request import urlopen as uReq\n",
    "from bs4 import BeautifulSoup as soup\n",
    "import csv"
   ]
  },
  {
   "cell_type": "code",
   "execution_count": 2,
   "metadata": {},
   "outputs": [],
   "source": [
    "#Reading the html data from the url to p_html\n",
    "my_url = 'https://www.cyber.gov.au/acsc/view-all-content/alerts'\n",
    "uClient = uReq(my_url)\n",
    "p_html = uClient.read()\n",
    "uClient.close()"
   ]
  },
  {
   "cell_type": "code",
   "execution_count": 3,
   "metadata": {},
   "outputs": [],
   "source": [
    "#Parsing html\n",
    "parsed_html = soup(p_html, \"html.parser\")"
   ]
  },
  {
   "cell_type": "code",
   "execution_count": 4,
   "metadata": {},
   "outputs": [],
   "source": [
    "#Splitting the html into a list of threats\n",
    "rows = parsed_html.findAll(\"div\", {\"class\":\"views-row\"})\n",
    "#deleting unrequired row from the list\n",
    "del rows[0]"
   ]
  },
  {
   "cell_type": "code",
   "execution_count": 5,
   "metadata": {},
   "outputs": [],
   "source": [
    "#Creating .csv file in the data folder and writing the required information from the list to .csv file\n",
    "with open('data/cyber_gov_au.csv', 'w') as file:\n",
    "    w = csv.writer(file)\n",
    "    #write header row\n",
    "    w.writerow(['Threat_date', 'Title', 'Threat_level', 'Summary', 'Source'])\n",
    "    for row in rows:\n",
    "        date = row.find(\"p\", {\"class\":\"acsc-date\"}).get_text()\n",
    "        title = row.find(\"p\", {\"class\":\"acsc-title\"}).get_text()\n",
    "        summary = row.find(\"p\", {\"class\":\"acsc-summary\"}).get_text()\n",
    "        src_link = (\"https://www.cyber.gov.au\" + row.a['href'])\n",
    "\n",
    "        uClient = uReq(src_link)\n",
    "        detailed_page = uClient.read()\n",
    "        uClient.close()\n",
    "        dp_parsed = soup(detailed_page, \"html.parser\")\n",
    "        Threat = dp_parsed.find(\"div\", {\"class\":\"field field--name-field-alert-status field--type-entity-reference field--label-inline\"})\n",
    "        lvl = Threat.find(\"div\", {\"class\":\"field__item\"}).get_text()\n",
    "\n",
    "        summary = summary.replace(\",\", \";\")\n",
    "        w.writerow([date, title, lvl, summary, src_link])\n"
   ]
  },
  {
   "cell_type": "code",
   "execution_count": null,
   "metadata": {},
   "outputs": [],
   "source": []
  }
 ],
 "metadata": {
  "kernelspec": {
   "display_name": "Python 3",
   "language": "python",
   "name": "python3"
  },
  "language_info": {
   "codemirror_mode": {
    "name": "ipython",
    "version": 3
   },
   "file_extension": ".py",
   "mimetype": "text/x-python",
   "name": "python",
   "nbconvert_exporter": "python",
   "pygments_lexer": "ipython3",
   "version": "3.8.3"
  }
 },
 "nbformat": 4,
 "nbformat_minor": 4
}
